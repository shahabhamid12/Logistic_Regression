{
 "cells": [
  {
   "cell_type": "code",
   "execution_count": null,
   "metadata": {
    "id": "mqBKd1RCYY77"
   },
   "outputs": [],
   "source": [
    "# Perform Logistic regression\n",
    "#Import Libraries\n",
    "\n"
   ]
  },
  {
   "cell_type": "code",
   "execution_count": null,
   "metadata": {
    "id": "Bj6VXRZkYiRu"
   },
   "outputs": [],
   "source": [
    "#Load the Data"
   ]
  },
  {
   "cell_type": "code",
   "execution_count": null,
   "metadata": {
    "id": "dyK6aeXGYqDO"
   },
   "outputs": [],
   "source": [
    "#Standardize the Variables and seperate the target variable\n"
   ]
  },
  {
   "cell_type": "code",
   "execution_count": null,
   "metadata": {
    "id": "kt2NDhJfYzGI"
   },
   "outputs": [],
   "source": [
    "#Train-Test Split\n"
   ]
  },
  {
   "cell_type": "code",
   "execution_count": null,
   "metadata": {
    "id": "YHMF4bPpY29p"
   },
   "outputs": [],
   "source": [
    "## Using Logistic Regression\n",
    "#Remember that we are trying to come up with a model to predict whether someone\n",
    "#will TARGET CLASS 0 or 1\n",
    "\n"
   ]
  },
  {
   "cell_type": "code",
   "execution_count": null,
   "metadata": {
    "id": "TsOLu7QCZBwl"
   },
   "outputs": [],
   "source": [
    "#Predicting and evavluations\n",
    "#Let's evaluate our Logistic Regression model.\n",
    "\n",
    "]\n"
   ]
  }
 ],
 "metadata": {
  "colab": {
   "provenance": []
  },
  "kernelspec": {
   "display_name": "Python 3 (ipykernel)",
   "language": "python",
   "name": "python3"
  },
  "language_info": {
   "codemirror_mode": {
    "name": "ipython",
    "version": 3
   },
   "file_extension": ".py",
   "mimetype": "text/x-python",
   "name": "python",
   "nbconvert_exporter": "python",
   "pygments_lexer": "ipython3",
   "version": "3.11.5"
  }
 },
 "nbformat": 4,
 "nbformat_minor": 4
}
